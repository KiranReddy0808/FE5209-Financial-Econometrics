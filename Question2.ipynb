{
 "cells": [
  {
   "cell_type": "code",
   "execution_count": 16,
   "metadata": {
    "vscode": {
     "languageId": "r"
    }
   },
   "outputs": [
    {
     "name": "stdout",
     "output_type": "stream",
     "text": [
      "      date       abt    vwretd    ewretd    sprtrn\n",
      "1 19720131  0.039147  0.028383  0.103892  0.018121\n",
      "2 19720229  0.076779  0.031349  0.041809  0.025303\n",
      "3 19720330 -0.029565  0.008722 -0.000951  0.005912\n",
      "4 19720428  0.021864  0.005505  0.001231  0.004384\n",
      "5 19720531  0.054577  0.016375 -0.018121  0.017275\n",
      "6 19720630  0.038397 -0.020896 -0.033775 -0.021821\n"
     ]
    }
   ],
   "source": [
    "# Read data from the text file\n",
    "data <- read.table(\"m-abt3dx.txt\", header = TRUE)\n",
    "\n",
    "# Print the first few rows of the data\n",
    "print(head(data))"
   ]
  },
  {
   "cell_type": "code",
   "execution_count": 17,
   "metadata": {
    "vscode": {
     "languageId": "r"
    }
   },
   "outputs": [
    {
     "name": "stdout",
     "output_type": "stream",
     "text": [
      "[1]  0.028383  0.031349  0.008722  0.005505  0.016375 -0.020896\n"
     ]
    }
   ],
   "source": [
    "# Take value weighted index\n",
    "vw_simple_returns <- data$vwretd\n",
    "\n",
    "# Convert simple returns to log returns\n",
    "# vw_log_returns <- log(1 + vw_simple_returns)\n",
    "\n",
    "# Print the first few rows of the log returns\n",
    "print(head(vw_simple_returns))"
   ]
  },
  {
   "cell_type": "markdown",
   "metadata": {},
   "source": [
    "* Test H_0 : μ = 0 versus Ha: μ ≠ 0 where μ denotes the mean return."
   ]
  },
  {
   "cell_type": "code",
   "execution_count": 18,
   "metadata": {
    "vscode": {
     "languageId": "r"
    }
   },
   "outputs": [
    {
     "name": "stdout",
     "output_type": "stream",
     "text": [
      "\n",
      "\tOne Sample t-test\n",
      "\n",
      "data:  vw_simple_returns\n",
      "t = 4.3172, df = 491, p-value = 1.912e-05\n",
      "alternative hypothesis: true mean is not equal to 0\n",
      "99 percent confidence interval:\n",
      " 0.003617125 0.014421948\n",
      "sample estimates:\n",
      "  mean of x \n",
      "0.009019537 \n",
      "\n"
     ]
    }
   ],
   "source": [
    "# Perform the t-test \n",
    "t_test_result <- t.test(vw_simple_returns, mu = 0, conf.level = 0.99)\n",
    "\n",
    "# Print the t-test result\n",
    "print(t_test_result)"
   ]
  },
  {
   "cell_type": "markdown",
   "metadata": {},
   "source": [
    "* Test H0 : m3 = 0 versus Ha : m3 < 0, where m3 denotes the skewness."
   ]
  },
  {
   "cell_type": "code",
   "execution_count": 19,
   "metadata": {
    "vscode": {
     "languageId": "r"
    }
   },
   "outputs": [
    {
     "ename": "ERROR",
     "evalue": "Error in cat(agostino_test_result): argument 1 (type 'list') cannot be handled by 'cat'\n",
     "output_type": "error",
     "traceback": [
      "Error in cat(agostino_test_result): argument 1 (type 'list') cannot be handled by 'cat'\nTraceback:\n",
      "1. .handleSimpleError(function (cnd) \n . {\n .     watcher$capture_plot_and_output()\n .     cnd <- sanitize_call(cnd)\n .     watcher$push(cnd)\n .     switch(on_error, continue = invokeRestart(\"eval_continue\"), \n .         stop = invokeRestart(\"eval_stop\"), error = invokeRestart(\"eval_error\", \n .             cnd))\n . }, \"argument 1 (type 'list') cannot be handled by 'cat'\", base::quote(cat(agostino_test_result)))"
     ]
    }
   ],
   "source": [
    "# Install the moments package if not already installed\n",
    "if (!requireNamespace(\"moments\", quietly = TRUE)) {\n",
    "  install.packages(\"moments\")\n",
    "}\n",
    "\n",
    "# Load the moments package\n",
    "library(moments)\n",
    "\n",
    "# Perform Agostino's test of skewness (source: https://cran.r-project.org/web/packages/moments/moments.pdf)\n",
    "agostino_test_result <- agostino.test(vw_simple_returns,  alternative = 'less')\n",
    "print(agostino_test_result)\n",
    "# Print the test result\n",
    "agostino_test_result$p.value < 0.01\n",
    "\n",
    "\n"
   ]
  },
  {
   "cell_type": "code",
   "execution_count": 5,
   "metadata": {
    "vscode": {
     "languageId": "r"
    }
   },
   "outputs": [
    {
     "name": "stdout",
     "output_type": "stream",
     "text": [
      "[1] -0.5570388\n",
      "[1] TRUE\n",
      "Reject H0: The distribution is negatively skewed.\n"
     ]
    },
    {
     "name": "stdout",
     "output_type": "stream",
     "text": [
      "Test statistic (S*): -5.044201 \n",
      "p-value: 2.277105e-07 \n"
     ]
    }
   ],
   "source": [
    "# Load necessary library\n",
    "library(moments)\n",
    "\n",
    "# Calculate skewness\n",
    "skewness_value <- skewness(vw_simple_returns)\n",
    "\n",
    "# Print the skewness value\n",
    "cat(skewness_value)\n",
    "\n",
    "# Number of observations\n",
    "T <- length(vw_simple_returns)\n",
    "\n",
    "# Compute the test statistic S*\n",
    "S_star <- skewness_value / sqrt(6 / T)\n",
    "\n",
    "# Compute the p-value\n",
    "p_value <- pnorm(S_star)\n",
    "\n",
    "\n",
    "\n",
    "# Set significance level\n",
    "alpha <- 0.01\n",
    "\n",
    "print(p_value < alpha)\n",
    "\n",
    "# Decision rule\n",
    "if (S_star < qnorm(alpha)) {\n",
    "  cat(\"Reject H0: The distribution is negatively skewed.\\n\")\n",
    "} else {\n",
    "  cat(\"Fail to reject H0: The distribution is symmetric.\\n\")\n",
    "}\n",
    "\n",
    "# Print the test statistic and p-value\n",
    "cat(\"Test statistic (S*):\", S_star, \"\\n\")\n",
    "cat(\"p-value:\", p_value, \"\\n\")"
   ]
  },
  {
   "cell_type": "markdown",
   "metadata": {},
   "source": [
    "* Test H0 : K = 3 versus Ha : K > 3, where K denotes the kurtosis."
   ]
  },
  {
   "cell_type": "code",
   "execution_count": 6,
   "metadata": {
    "vscode": {
     "languageId": "r"
    }
   },
   "outputs": [
    {
     "name": "stdout",
     "output_type": "stream",
     "text": [
      "\n",
      "\tAnscombe-Glynn kurtosis test\n",
      "\n",
      "data:  vw_simple_returns\n",
      "kurt = 5.0943, z = 5.2542, p-value = 1\n",
      "alternative hypothesis: kurtosis is lower than 3\n",
      "\n"
     ]
    }
   ],
   "source": [
    "# Perform Anscombe-Glynn kurtosis test (source: https://cran.r-project.org/web/packages/moments/moments.pdf)\n",
    "anscombe_test_result <- anscombe.test(vw_simple_returns, alternative = 'greater')\n",
    "\n",
    "# Print the test result\n",
    "print(anscombe_test_result)"
   ]
  },
  {
   "cell_type": "code",
   "execution_count": 7,
   "metadata": {
    "vscode": {
     "languageId": "r"
    }
   },
   "outputs": [
    {
     "name": "stdout",
     "output_type": "stream",
     "text": [
      "[1] 5.094344\n",
      "[1] \"Fail to reject H0: Kurtosis equals 3.\"\n",
      "[1] \"Test statistic (K*): 9.48254760653697\"\n",
      "[1] \"p-value: 0\"\n"
     ]
    }
   ],
   "source": [
    "# Load necessary library\n",
    "library(moments)\n",
    "\n",
    "# Calculate Kurtosis\n",
    "kurtosis_value <- kurtosis(vw_simple_returns)\n",
    "\n",
    "# Print the kurtosis value\n",
    "cat(kurtosis_value, \"\\n\")\n",
    "\n",
    "# Number of observations\n",
    "T <- length(vw_simple_returns)\n",
    "\n",
    "# Compute the test statistic K*\n",
    "K_star <- (kurtosis_value - 3) / sqrt(24 / T)\n",
    "\n",
    "# Compute the p-value\n",
    "p_value <- 1 - pnorm(K_star)\n",
    "\n",
    "# Set significance level\n",
    "alpha <- 0.01\n",
    "\n",
    "# Decision rule\n",
    "if (K_star < qnorm(1 - alpha)) {\n",
    "  cat(\"Reject H0: Kurtosis not equals 3.\")\n",
    "} else {\n",
    "  cat(\"Fail to reject H0: Kurtosis equals 3.\")\n",
    "}\n",
    "\n",
    "# Print the test statistic and p-value\n",
    "cat(\"Test statistic (K*):\", K_star, \"\\n\" )\n",
    "cat(\"p-value:\", p_value, \"\\n\")"
   ]
  },
  {
   "cell_type": "markdown",
   "metadata": {},
   "source": [
    "* Test H0 : μ = 0 versus Ha : μ > 0, where μ denotes the mean return."
   ]
  },
  {
   "cell_type": "code",
   "execution_count": 8,
   "metadata": {
    "vscode": {
     "languageId": "r"
    }
   },
   "outputs": [
    {
     "name": "stdout",
     "output_type": "stream",
     "text": [
      "\n",
      "\tOne Sample t-test\n",
      "\n",
      "data:  vw_simple_returns\n",
      "t = 4.3172, df = 491, p-value = 9.561e-06\n",
      "alternative hypothesis: true mean is greater than 0\n",
      "99 percent confidence interval:\n",
      " 0.004143421         Inf\n",
      "sample estimates:\n",
      "  mean of x \n",
      "0.009019537 \n",
      "\n"
     ]
    }
   ],
   "source": [
    "# Perform the t-test \n",
    "t_test_result <- t.test(vw_simple_returns, mu = 0, conf.level = 0.99, alternative = \"greater\")\n",
    "\n",
    "# Print the t-test result\n",
    "print(t_test_result)"
   ]
  }
 ],
 "metadata": {
  "kernelspec": {
   "display_name": "R",
   "language": "R",
   "name": "ir"
  },
  "language_info": {
   "codemirror_mode": "r",
   "file_extension": ".r",
   "mimetype": "text/x-r-source",
   "name": "R",
   "pygments_lexer": "r",
   "version": "4.4.1"
  }
 },
 "nbformat": 4,
 "nbformat_minor": 2
}
