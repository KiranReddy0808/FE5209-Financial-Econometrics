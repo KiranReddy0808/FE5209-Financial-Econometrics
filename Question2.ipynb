{
 "cells": [
  {
   "cell_type": "code",
   "execution_count": 9,
   "metadata": {
    "vscode": {
     "languageId": "r"
    }
   },
   "outputs": [
    {
     "name": "stdout",
     "output_type": "stream",
     "text": [
      "      date       abt    vwretd    ewretd    sprtrn\n",
      "1 19720131  0.039147  0.028383  0.103892  0.018121\n",
      "2 19720229  0.076779  0.031349  0.041809  0.025303\n",
      "3 19720330 -0.029565  0.008722 -0.000951  0.005912\n",
      "4 19720428  0.021864  0.005505  0.001231  0.004384\n",
      "5 19720531  0.054577  0.016375 -0.018121  0.017275\n",
      "6 19720630  0.038397 -0.020896 -0.033775 -0.021821\n"
     ]
    }
   ],
   "source": [
    "# Read data from the text file\n",
    "data <- read.table(\"m-abt3dx.txt\", header = TRUE)\n",
    "\n",
    "# Print the first few rows of the data\n",
    "print(head(data))"
   ]
  },
  {
   "cell_type": "code",
   "execution_count": 10,
   "metadata": {
    "vscode": {
     "languageId": "r"
    }
   },
   "outputs": [
    {
     "name": "stdout",
     "output_type": "stream",
     "text": [
      "[1]  0.027987666  0.030867654  0.008684183  0.005489903  0.016242376\n",
      "[6] -0.021117411\n"
     ]
    }
   ],
   "source": [
    "# Take value weighted index\n",
    "vw_simple_returns <- data$vwretd\n",
    "\n",
    "# Convert simple returns to log returns\n",
    "vw_log_returns <- log(1 + vw_simple_returns)\n",
    "\n",
    "# Print the first few rows of the log returns\n",
    "print(head(vw_log_returns))"
   ]
  },
  {
   "cell_type": "markdown",
   "metadata": {},
   "source": [
    "* Test H_0 : μ = 0 versus Ha: μ ≠ 0 where μ denotes the mean return."
   ]
  },
  {
   "cell_type": "code",
   "execution_count": 11,
   "metadata": {
    "vscode": {
     "languageId": "r"
    }
   },
   "outputs": [
    {
     "name": "stdout",
     "output_type": "stream",
     "text": [
      "\n",
      "\tOne Sample t-test\n",
      "\n",
      "data:  vw_log_returns\n",
      "t = 3.7499, df = 491, p-value = 0.000198\n",
      "alternative hypothesis: true mean is not equal to 0\n",
      "99 percent confidence interval:\n",
      " 0.002453006 0.013352009\n",
      "sample estimates:\n",
      "  mean of x \n",
      "0.007902507 \n",
      "\n"
     ]
    }
   ],
   "source": [
    "# Perform the t-test \n",
    "t_test_result <- t.test(vw_log_returns, mu = 0, conf.level = 0.99)\n",
    "\n",
    "# Print the t-test result\n",
    "print(t_test_result)"
   ]
  },
  {
   "cell_type": "markdown",
   "metadata": {},
   "source": [
    "* Test H0 : m3 = 0 versus Ha : m3 < 0, where m3 denotes the skewness."
   ]
  },
  {
   "cell_type": "code",
   "execution_count": 12,
   "metadata": {
    "vscode": {
     "languageId": "r"
    }
   },
   "outputs": [
    {
     "name": "stdout",
     "output_type": "stream",
     "text": [
      "\n",
      "\tD'Agostino skewness test\n",
      "\n",
      "data:  vw_log_returns\n",
      "skew = -0.84211, z = -6.80856, p-value = 1\n",
      "alternative hypothesis: data have positive skewness\n",
      "\n"
     ]
    }
   ],
   "source": [
    "# Install the moments package if not already installed\n",
    "if (!requireNamespace(\"moments\", quietly = TRUE)) {\n",
    "  install.packages(\"moments\")\n",
    "}\n",
    "\n",
    "# Load the moments package\n",
    "library(moments)\n",
    "\n",
    "# Perform Agostino's test of skewness (source: https://cran.r-project.org/web/packages/moments/moments.pdf)\n",
    "agostino_test_result <- agostino.test(vw_log_returns, alternative = 'less')\n",
    "\n",
    "# Print the test result\n",
    "print(agostino_test_result)\n"
   ]
  },
  {
   "cell_type": "markdown",
   "metadata": {},
   "source": [
    "* Test H0 : K = 3 versus Ha : K > 3, where K denotes the kurtosis."
   ]
  },
  {
   "cell_type": "code",
   "execution_count": 15,
   "metadata": {
    "vscode": {
     "languageId": "r"
    }
   },
   "outputs": [
    {
     "name": "stdout",
     "output_type": "stream",
     "text": [
      "\n",
      "\tAnscombe-Glynn kurtosis test\n",
      "\n",
      "data:  vw_log_returns\n",
      "kurt = 6.0278, z = 6.3382, p-value = 1\n",
      "alternative hypothesis: kurtosis is lower than 3\n",
      "\n"
     ]
    }
   ],
   "source": [
    "# Perform Anscombe-Glynn kurtosis test (source: https://cran.r-project.org/web/packages/moments/moments.pdf)\n",
    "anscombe_test_result <- anscombe.test(vw_log_returns, alternative = 'greater')\n",
    "\n",
    "# Print the test result\n",
    "print(anscombe_test_result)"
   ]
  },
  {
   "cell_type": "markdown",
   "metadata": {},
   "source": [
    "* Test H0 : μ = 0 versus Ha : μ > 0, where μ denotes the mean return."
   ]
  },
  {
   "cell_type": "code",
   "execution_count": 14,
   "metadata": {
    "vscode": {
     "languageId": "r"
    }
   },
   "outputs": [
    {
     "name": "stdout",
     "output_type": "stream",
     "text": [
      "\n",
      "\tOne Sample t-test\n",
      "\n",
      "data:  vw_log_returns\n",
      "t = 3.7499, df = 491, p-value = 9.901e-05\n",
      "alternative hypothesis: true mean is greater than 0\n",
      "99 percent confidence interval:\n",
      " 0.002983889         Inf\n",
      "sample estimates:\n",
      "  mean of x \n",
      "0.007902507 \n",
      "\n"
     ]
    }
   ],
   "source": [
    "# Perform the t-test \n",
    "t_test_result <- t.test(vw_log_returns, mu = 0, conf.level = 0.99, alternative = \"greater\")\n",
    "\n",
    "# Print the t-test result\n",
    "print(t_test_result)"
   ]
  }
 ],
 "metadata": {
  "kernelspec": {
   "display_name": "R",
   "language": "R",
   "name": "ir"
  },
  "language_info": {
   "codemirror_mode": "r",
   "file_extension": ".r",
   "mimetype": "text/x-r-source",
   "name": "R",
   "pygments_lexer": "r",
   "version": "4.4.1"
  }
 },
 "nbformat": 4,
 "nbformat_minor": 2
}
