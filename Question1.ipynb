{
 "cells": [
  {
   "cell_type": "code",
   "execution_count": 94,
   "id": "16040910-2bde-44d7-b225-0057643c97e5",
   "metadata": {
    "vscode": {
     "languageId": "r"
    }
   },
   "outputs": [
    {
     "name": "stdout",
     "output_type": "stream",
     "text": [
      "      date       abt    vwretd    ewretd    sprtrn\n",
      "1 19720131  0.039147  0.028383  0.103892  0.018121\n",
      "2 19720229  0.076779  0.031349  0.041809  0.025303\n",
      "3 19720330 -0.029565  0.008722 -0.000951  0.005912\n",
      "4 19720428  0.021864  0.005505  0.001231  0.004384\n",
      "5 19720531  0.054577  0.016375 -0.018121  0.017275\n",
      "6 19720630  0.038397 -0.020896 -0.033775 -0.021821\n"
     ]
    }
   ],
   "source": [
    "# Read data from the text file\n",
    "data <- read.table(\"m-abt3dx.txt\", header = TRUE)\n",
    "\n",
    "# Print the first few rows of the data\n",
    "print(head(data))"
   ]
  },
  {
   "cell_type": "code",
   "execution_count": 95,
   "id": "d5db4fa5",
   "metadata": {
    "vscode": {
     "languageId": "r"
    }
   },
   "outputs": [
    {
     "name": "stdout",
     "output_type": "stream",
     "text": [
      "                      abt    vwretd    ewretd    sprtrn\n",
      "Mean             0.014073  0.009020  0.011583  0.006386\n",
      "Stdev            0.064795  0.046341  0.057299  0.044788\n",
      "Skewness         0.097058 -0.555341 -0.200025 -0.444303\n",
      "Excess Kurtosis  2.469971  2.073657  3.288104  1.889777\n",
      "Minimum         -0.234146 -0.225363 -0.272248 -0.217630\n",
      "Maximum          0.382326  0.165585  0.299260  0.163047\n"
     ]
    }
   ],
   "source": [
    "# Install the fBasics package if not already installed\n",
    "if (!requireNamespace(\"fBasics\", quietly = TRUE)) {\n",
    "  install.packages(\"fBasics\")\n",
    "}\n",
    "\n",
    "# Load the fBasics package\n",
    "library(fBasics)\n",
    "\n",
    "# Compute basic statistics for the simple returns of the stocks\n",
    "stats <- basicStats(data[, c('abt', 'vwretd', 'ewretd', 'sprtrn')])\n",
    "\n",
    "excess_kurtosis <- c(fBasics::kurtosis(data$abt, method = \"excess\"), fBasics::kurtosis(data$vwretd, method = \"excess\"), fBasics::kurtosis(data$ewretd, method = \"excess\"), fBasics::kurtosis(data$sprtrn, method = \"excess\") )\n",
    "\n",
    "stats[c(\"Excess Kurtosis\"),] <- rbind(excess_kurtosis)\n",
    "\n",
    "print(stats[c(\"Mean\", \"Stdev\", \"Skewness\", \"Excess Kurtosis\", \"Minimum\", \"Maximum\"),])"
   ]
  },
  {
   "cell_type": "code",
   "execution_count": 96,
   "id": "e74fa146",
   "metadata": {
    "vscode": {
     "languageId": "r"
    }
   },
   "outputs": [
    {
     "name": "stdout",
     "output_type": "stream",
     "text": [
      "                      abt    vwretd    ewretd    sprtrn\n",
      "Mean             0.011924  0.007903  0.009887  0.005360\n",
      "Stdev            0.064287  0.046745  0.057491  0.045145\n",
      "Skewness        -0.297125 -0.839542 -0.662276 -0.711215\n",
      "Excess Kurtosis  2.005416  3.003331  3.976081  2.659018\n",
      "Minimum         -0.266764 -0.255361 -0.317795 -0.245428\n",
      "Maximum          0.323768  0.153223  0.261795  0.151043\n"
     ]
    }
   ],
   "source": [
    "log_returns <- data.frame(lapply(data[, c('abt', 'vwretd', 'ewretd', 'sprtrn')], function(x) log(1+x)))\n",
    "\n",
    "# Compute basic statistics for the log returns of the stocks\n",
    "log_stats <- basicStats(log_returns)\n",
    "\n",
    "excess_kurtosis <- c(fBasics::kurtosis(log_returns$abt, method = \"excess\"), fBasics::kurtosis(log_returns$vwretd, method = \"excess\"), fBasics::kurtosis(log_returns$ewretd, method = \"excess\"), fBasics::kurtosis(log_returns$sprtrn, method = \"excess\") )\n",
    "\n",
    "log_stats[c(\"Excess Kurtosis\"),] <- rbind(excess_kurtosis)\n",
    "# Print the statistics\n",
    "print(log_stats[c(\"Mean\", \"Stdev\", \"Skewness\", \"Excess Kurtosis\", \"Minimum\", \"Maximum\"),])"
   ]
  },
  {
   "cell_type": "code",
   "execution_count": 97,
   "id": "97d5df69",
   "metadata": {
    "vscode": {
     "languageId": "r"
    }
   },
   "outputs": [
    {
     "name": "stdout",
     "output_type": "stream",
     "text": [
      "\n",
      "\tOne Sample t-test\n",
      "\n",
      "data:  log_returns$abt\n",
      "t = 4.1143, df = 491, p-value = 4.555e-05\n",
      "alternative hypothesis: true mean is not equal to 0\n",
      "99 percent confidence interval:\n",
      " 0.004429679 0.019418891\n",
      "sample estimates:\n",
      " mean of x \n",
      "0.01192429 \n",
      "\n"
     ]
    }
   ],
   "source": [
    "# Perform t-test to test the null hypothesis that the mean log return of ABT is equal to zero\n",
    "t_test_result <- t.test(log_returns$abt, mu = 0, conf.level = 0.99)\n",
    "\n",
    "# Print the t-test result\n",
    "print(t_test_result)"
   ]
  },
  {
   "cell_type": "code",
   "execution_count": 98,
   "id": "e8c1e4bf",
   "metadata": {
    "vscode": {
     "languageId": "r"
    }
   },
   "outputs": [
    {
     "data": {
      "image/png": "[encoded data removed]",
      "text/plain": [
       "Plot with title \"Histogram of Log returns for ABT\""
      ]
     },
     "metadata": {
      "image/png": {
       "height": 420,
       "width": 420
      }
     },
     "output_type": "display_data"
    }
   ],
   "source": [
    "# Plot the histogram of log returns for ABT with breaks 40\n",
    "hist(log_returns$abt, main = \"Histogram of Log returns for ABT\", breaks = 40, probability = TRUE, xlab = \"Log Returns\")\n",
    "lines(density(log_returns$abt), col = \"green\", lwd = 2)"
   ]
  }
 ],
 "metadata": {
  "kernelspec": {
   "display_name": "R",
   "language": "R",
   "name": "ir"
  },
  "language_info": {
   "codemirror_mode": "r",
   "file_extension": ".r",
   "mimetype": "text/x-r-source",
   "name": "R",
   "pygments_lexer": "r",
   "version": "4.4.1"
  }
 },
 "nbformat": 4,
 "nbformat_minor": 5
}
