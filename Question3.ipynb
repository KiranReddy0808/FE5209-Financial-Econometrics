{
 "cells": [
  {
   "cell_type": "code",
   "execution_count": 12,
   "metadata": {
    "vscode": {
     "languageId": "r"
    }
   },
   "outputs": [
    {
     "name": "stdout",
     "output_type": "stream",
     "text": [
      "  year month day     gdp  log_gdp   growth_rate\n",
      "1 1947     1   1 1770691 14.38688  0.0000000000\n",
      "2 1947     4   1 1767976 14.38535 -0.0015344764\n",
      "3 1947     7   1 1766523 14.38452 -0.0008221816\n",
      "4 1947    10   1 1793310 14.39957  0.0150498664\n",
      "5 1948     1   1 1821809 14.41534  0.0157668892\n",
      "6 1948     4   1 1855345 14.43358  0.0182406991\n"
     ]
    }
   ],
   "source": [
    "# Read the data from the file q-gdpmc1.txt\n",
    "data <- read.table(\"q-gdpmc1.txt\", header = TRUE)\n",
    "\n",
    "# Add log transformation of GDP per capita to data\n",
    "data$log_gdp <- log(data$gdp)\n",
    "\n",
    "# Add first differencing of log GDP per capita to data\n",
    "data$growth_rate <- c(0, diff(data$log_gdp))\n",
    "\n",
    "#Display the first few rows of the data\n",
    "print(head(data))"
   ]
  },
  {
   "cell_type": "code",
   "execution_count": 13,
   "metadata": {
    "vscode": {
     "languageId": "r"
    }
   },
   "outputs": [
    {
     "data": {
      "text/html": [
       "<table class=\"dataframe\">\n",
       "<caption>A data.frame: 6 × 7</caption>\n",
       "<thead>\n",
       "\t<tr><th></th><th scope=col>year</th><th scope=col>month</th><th scope=col>day</th><th scope=col>gdp</th><th scope=col>log_gdp</th><th scope=col>growth_rate</th><th scope=col>date</th></tr>\n",
       "\t<tr><th></th><th scope=col>&lt;int&gt;</th><th scope=col>&lt;int&gt;</th><th scope=col>&lt;int&gt;</th><th scope=col>&lt;int&gt;</th><th scope=col>&lt;dbl&gt;</th><th scope=col>&lt;dbl&gt;</th><th scope=col>&lt;date&gt;</th></tr>\n",
       "</thead>\n",
       "<tbody>\n",
       "\t<tr><th scope=row>1</th><td>1947</td><td> 1</td><td>1</td><td>1770691</td><td>14.38688</td><td> 0.0000000000</td><td>1947-01-01</td></tr>\n",
       "\t<tr><th scope=row>2</th><td>1947</td><td> 4</td><td>1</td><td>1767976</td><td>14.38535</td><td>-0.0015344764</td><td>1947-04-01</td></tr>\n",
       "\t<tr><th scope=row>3</th><td>1947</td><td> 7</td><td>1</td><td>1766523</td><td>14.38452</td><td>-0.0008221816</td><td>1947-07-01</td></tr>\n",
       "\t<tr><th scope=row>4</th><td>1947</td><td>10</td><td>1</td><td>1793310</td><td>14.39957</td><td> 0.0150498664</td><td>1947-10-01</td></tr>\n",
       "\t<tr><th scope=row>5</th><td>1948</td><td> 1</td><td>1</td><td>1821809</td><td>14.41534</td><td> 0.0157668892</td><td>1948-01-01</td></tr>\n",
       "\t<tr><th scope=row>6</th><td>1948</td><td> 4</td><td>1</td><td>1855345</td><td>14.43358</td><td> 0.0182406991</td><td>1948-04-01</td></tr>\n",
       "</tbody>\n",
       "</table>\n"
      ],
      "text/latex": [
       "A data.frame: 6 × 7\n",
       "\\begin{tabular}{r|lllllll}\n",
       "  & year & month & day & gdp & log\\_gdp & growth\\_rate & date\\\\\n",
       "  & <int> & <int> & <int> & <int> & <dbl> & <dbl> & <date>\\\\\n",
       "\\hline\n",
       "\t1 & 1947 &  1 & 1 & 1770691 & 14.38688 &  0.0000000000 & 1947-01-01\\\\\n",
       "\t2 & 1947 &  4 & 1 & 1767976 & 14.38535 & -0.0015344764 & 1947-04-01\\\\\n",
       "\t3 & 1947 &  7 & 1 & 1766523 & 14.38452 & -0.0008221816 & 1947-07-01\\\\\n",
       "\t4 & 1947 & 10 & 1 & 1793310 & 14.39957 &  0.0150498664 & 1947-10-01\\\\\n",
       "\t5 & 1948 &  1 & 1 & 1821809 & 14.41534 &  0.0157668892 & 1948-01-01\\\\\n",
       "\t6 & 1948 &  4 & 1 & 1855345 & 14.43358 &  0.0182406991 & 1948-04-01\\\\\n",
       "\\end{tabular}\n"
      ],
      "text/markdown": [
       "\n",
       "A data.frame: 6 × 7\n",
       "\n",
       "| <!--/--> | year &lt;int&gt; | month &lt;int&gt; | day &lt;int&gt; | gdp &lt;int&gt; | log_gdp &lt;dbl&gt; | growth_rate &lt;dbl&gt; | date &lt;date&gt; |\n",
       "|---|---|---|---|---|---|---|---|\n",
       "| 1 | 1947 |  1 | 1 | 1770691 | 14.38688 |  0.0000000000 | 1947-01-01 |\n",
       "| 2 | 1947 |  4 | 1 | 1767976 | 14.38535 | -0.0015344764 | 1947-04-01 |\n",
       "| 3 | 1947 |  7 | 1 | 1766523 | 14.38452 | -0.0008221816 | 1947-07-01 |\n",
       "| 4 | 1947 | 10 | 1 | 1793310 | 14.39957 |  0.0150498664 | 1947-10-01 |\n",
       "| 5 | 1948 |  1 | 1 | 1821809 | 14.41534 |  0.0157668892 | 1948-01-01 |\n",
       "| 6 | 1948 |  4 | 1 | 1855345 | 14.43358 |  0.0182406991 | 1948-04-01 |\n",
       "\n"
      ],
      "text/plain": [
       "  year month day gdp     log_gdp  growth_rate   date      \n",
       "1 1947  1    1   1770691 14.38688  0.0000000000 1947-01-01\n",
       "2 1947  4    1   1767976 14.38535 -0.0015344764 1947-04-01\n",
       "3 1947  7    1   1766523 14.38452 -0.0008221816 1947-07-01\n",
       "4 1947 10    1   1793310 14.39957  0.0150498664 1947-10-01\n",
       "5 1948  1    1   1821809 14.41534  0.0157668892 1948-01-01\n",
       "6 1948  4    1   1855345 14.43358  0.0182406991 1948-04-01"
      ]
     },
     "metadata": {},
     "output_type": "display_data"
    }
   ],
   "source": [
    "data$date <- as.Date(with(data, paste(year, month, \"01\", sep=\"-\")), \"%Y-%m-%d\")\n",
    "head(data)"
   ]
  },
  {
   "cell_type": "code",
   "execution_count": 14,
   "metadata": {
    "vscode": {
     "languageId": "r"
    }
   },
   "outputs": [
    {
     "data": {
      "image/png": "[encoded data removed]",
      "text/plain": [
       "plot without title"
      ]
     },
     "metadata": {
      "image/png": {
       "height": 420,
       "width": 420
      }
     },
     "output_type": "display_data"
    }
   ],
   "source": [
    "library(ggplot2)\n",
    "\n",
    "ggplot(data, aes(x = date, y = growth_rate)) +\n",
    "  geom_line() +\n",
    "  labs(title = \"US GDP Growth Rate from 1947-2012\", x = \"Date\", y = \"Growth Rate\")"
   ]
  },
  {
   "cell_type": "code",
   "execution_count": 16,
   "metadata": {
    "vscode": {
     "languageId": "r"
    }
   },
   "outputs": [
    {
     "name": "stdout",
     "output_type": "stream",
     "text": [
      "\n",
      "\tBox-Ljung test\n",
      "\n",
      "data:  data$growth_rate\n",
      "X-squared = 66.19, df = 12, p-value = 1.642e-09\n",
      "\n"
     ]
    }
   ],
   "source": [
    "# Perform the Ljung-Box test for the first 12 lags\n",
    "ljung_box_test <- Box.test(data$growth_rate, lag = 12, type = \"Ljung-Box\")\n",
    "\n",
    "# Print the test result\n",
    "print(ljung_box_test)"
   ]
  },
  {
   "cell_type": "code",
   "execution_count": 18,
   "metadata": {
    "vscode": {
     "languageId": "r"
    }
   },
   "outputs": [
    {
     "name": "stdout",
     "output_type": "stream",
     "text": [
      "\n",
      "\tOne Sample t-test\n",
      "\n",
      "data:  data$growth_rate\n",
      "t = 12.771, df = 263, p-value < 2.2e-16\n",
      "alternative hypothesis: true mean is not equal to 0\n",
      "99 percent confidence interval:\n",
      " 0.006167912 0.009313152\n",
      "sample estimates:\n",
      "  mean of x \n",
      "0.007740532 \n",
      "\n"
     ]
    }
   ],
   "source": [
    "# Perform the t-test \n",
    "t_test_result <- t.test(data$growth_rate, mu = 0, conf.level = 0.99)\n",
    "\n",
    "# Print the t-test result\n",
    "print(t_test_result)"
   ]
  },
  {
   "cell_type": "code",
   "execution_count": 19,
   "metadata": {
    "vscode": {
     "languageId": "r"
    }
   },
   "outputs": [
    {
     "name": "stdout",
     "output_type": "stream",
     "text": [
      "[1] 3\n"
     ]
    }
   ],
   "source": [
    "# Load necessary library\n",
    "library(stats)\n",
    "\n",
    "# Fit an AR model to the growth rate series using MLE\n",
    "ar_model <- ar(data$growth_rate, method = \"mle\")\n",
    "\n",
    "# Extract and print the order of the AR model\n",
    "ar_order <- ar_model$order\n",
    "print(ar_order)"
   ]
  }
 ],
 "metadata": {
  "kernelspec": {
   "display_name": "R",
   "language": "R",
   "name": "ir"
  },
  "language_info": {
   "codemirror_mode": "r",
   "file_extension": ".r",
   "mimetype": "text/x-r-source",
   "name": "R",
   "pygments_lexer": "r",
   "version": "4.4.1"
  }
 },
 "nbformat": 4,
 "nbformat_minor": 2
}
