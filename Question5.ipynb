{
 "cells": [
  {
   "cell_type": "code",
   "execution_count": 1,
   "metadata": {
    "vscode": {
     "languageId": "r"
    }
   },
   "outputs": [
    {
     "name": "stdout",
     "output_type": "stream",
     "text": [
      "  year month day     gdp  log_gdp   growth_rate\n",
      "1 1947     1   1 1770691 14.38688            NA\n",
      "2 1947     4   1 1767976 14.38535 -0.0015344764\n",
      "3 1947     7   1 1766523 14.38452 -0.0008221816\n",
      "4 1947    10   1 1793310 14.39957  0.0150498664\n",
      "5 1948     1   1 1821809 14.41534  0.0157668892\n",
      "6 1948     4   1 1855345 14.43358  0.0182406991\n"
     ]
    }
   ],
   "source": [
    "# Read the data from the file q-gdpmc1.txt\n",
    "data <- read.table(\"q-gdpmc1.txt\", header = TRUE)\n",
    "\n",
    "# Add log transformation of GDP per capita to data\n",
    "data$log_gdp <- log(data$gdp)\n",
    "\n",
    "# Add first differencing of log GDP per capita to data\n",
    "data$growth_rate <- c(NA, diff(data$log_gdp))\n",
    "\n",
    "#Display the first few rows of the data\n",
    "print(head(data))"
   ]
  },
  {
   "cell_type": "code",
   "execution_count": 2,
   "metadata": {
    "vscode": {
     "languageId": "r"
    }
   },
   "outputs": [
    {
     "name": "stdout",
     "output_type": "stream",
     "text": [
      "\n",
      "Call:\n",
      "arima(x = na.omit(data$growth_rate), order = c(1, 0, 0))\n",
      "\n",
      "Coefficients:\n",
      "         ar1  intercept\n",
      "      0.3705     0.0077\n",
      "s.e.  0.0572     0.0009\n",
      "\n",
      "sigma^2 estimated as 8.344e-05:  log likelihood = 861.71,  aic = -1717.43\n"
     ]
    }
   ],
   "source": [
    "# Load the necessary libraries\n",
    "library(stats)\n",
    "\n",
    "# Fit an AR model to the growth rate data\n",
    "ar_model <- arima(na.omit(data$growth_rate), order = c(1,0,0))\n",
    "\n",
    "# Display the fitted model\n",
    "print(ar_model)"
   ]
  }
 ],
 "metadata": {
  "kernelspec": {
   "display_name": "R",
   "language": "R",
   "name": "ir"
  },
  "language_info": {
   "codemirror_mode": "r",
   "file_extension": ".r",
   "mimetype": "text/x-r-source",
   "name": "R",
   "pygments_lexer": "r",
   "version": "4.4.1"
  }
 },
 "nbformat": 4,
 "nbformat_minor": 2
}
