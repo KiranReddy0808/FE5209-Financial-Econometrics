{
 "cells": [
  {
   "cell_type": "code",
   "execution_count": 1,
   "metadata": {
    "vscode": {
     "languageId": "r"
    }
   },
   "outputs": [
    {
     "name": "stdout",
     "output_type": "stream",
     "text": [
      "  year month day     gdp  log_gdp   growth_rate\n",
      "1 1947     1   1 1770691 14.38688  0.0000000000\n",
      "2 1947     4   1 1767976 14.38535 -0.0015344764\n",
      "3 1947     7   1 1766523 14.38452 -0.0008221816\n",
      "4 1947    10   1 1793310 14.39957  0.0150498664\n",
      "5 1948     1   1 1821809 14.41534  0.0157668892\n",
      "6 1948     4   1 1855345 14.43358  0.0182406991\n"
     ]
    }
   ],
   "source": [
    "# Read the data from the file q-gdpmc1.txt\n",
    "data <- read.table(\"q-gdpmc1.txt\", header = TRUE)\n",
    "\n",
    "# Add log transformation of GDP per capita to data\n",
    "data$log_gdp <- log(data$gdp)\n",
    "\n",
    "# Add first differencing of log GDP per capita to data\n",
    "data$growth_rate <- c(0, diff(data$log_gdp))\n",
    "\n",
    "#Display the first few rows of the data\n",
    "print(head(data))"
   ]
  },
  {
   "cell_type": "code",
   "execution_count": 2,
   "metadata": {
    "vscode": {
     "languageId": "r"
    }
   },
   "outputs": [
    {
     "name": "stdout",
     "output_type": "stream",
     "text": [
      "\n",
      "Call:\n",
      "arima(x = data$growth_rate, order = c(3, 0, 0))\n",
      "\n",
      "Coefficients:\n",
      "         ar1     ar2      ar3  intercept\n",
      "      0.3484  0.1293  -0.1135     0.0077\n",
      "s.e.  0.0610  0.0642   0.0610     0.0009\n",
      "\n",
      "sigma^2 estimated as 8.142e-05:  log likelihood = 868.2,  aic = -1726.4\n"
     ]
    },
    {
     "data": {
      "image/png": "[encoded data removed]",
      "text/plain": [
       "Plot with title \"Residuals of AR Model\""
      ]
     },
     "metadata": {
      "image/png": {
       "height": 420,
       "width": 420
      }
     },
     "output_type": "display_data"
    },
    {
     "data": {
      "text/plain": [
       "\n",
       "\tBox-Ljung test\n",
       "\n",
       "data:  residuals(ar_model)\n",
       "X-squared = 20.968, df = 20, p-value = 0.399\n"
      ]
     },
     "metadata": {},
     "output_type": "display_data"
    },
    {
     "data": {
      "image/png": "[encoded data removed]",
      "text/plain": [
       "Plot with title \"ACF of Residuals\""
      ]
     },
     "metadata": {
      "image/png": {
       "height": 420,
       "width": 420
      }
     },
     "output_type": "display_data"
    }
   ],
   "source": [
    "# Load necessary libraries\n",
    "library(stats)\n",
    "\n",
    "# Fit an AR model to the growth rate series\n",
    "ar_model <- arima(data$growth_rate, order = c(3, 0, 0)) # AR(3) model\n",
    "\n",
    "# Display the fitted model\n",
    "print(ar_model)\n",
    "\n",
    "# Plot residuals\n",
    "plot(residuals(ar_model), main=\"Residuals of AR Model\", ylab=\"Residuals\")\n",
    "\n",
    "# Plot ACF of residuals\n",
    "acf(residuals(ar_model), main=\"ACF of Residuals\")\n",
    "\n",
    "# Perform Ljung-Box test\n",
    "Box.test(residuals(ar_model), lag=20, type=\"Ljung-Box\")"
   ]
  },
  {
   "cell_type": "code",
   "execution_count": 3,
   "metadata": {
    "vscode": {
     "languageId": "r"
    }
   },
   "outputs": [
    {
     "name": "stdout",
     "output_type": "stream",
     "text": [
      "[1]  1.651388+1.160624e+00i -2.163306+5.369019e-15i  1.651388-1.160624e+00i\n",
      "Modulus of the roots: 2.018447 2.163306 2.018447 \n",
      "The model does not confirm the existence of business cycles.\n"
     ]
    }
   ],
   "source": [
    "# Extract AR coefficients\n",
    "ar_coefficients <- ar_model$coef[1:3]\n",
    "\n",
    "# Form the characteristic polynomial (1 - theta1*B - theta*B^2 - theta3*B^3 = 0)\n",
    "# where L is the lag operator\n",
    "characteristic_polynomial <- c(1, -ar_coefficients)\n",
    "\n",
    "# Find the roots of the polynomial\n",
    "roots <- polyroot(characteristic_polynomial)\n",
    "\n",
    "# Display the roots\n",
    "print(roots)\n",
    "\n",
    "# Analyze the roots\n",
    "modulus <- Mod(roots)\n",
    "cat(\"Modulus of the roots:\", modulus, \"\\n\")\n",
    "\n",
    "# Check if any roots are complex and have modulus close to 1\n",
    "if (any(Im(roots) != 0 & modulus < 1)) {\n",
    "  cat(\"The model confirms the existence of business cycles.\\n\")\n",
    "} else {\n",
    "  cat(\"The model does not confirm the existence of business cycles.\\n\")\n",
    "}"
   ]
  },
  {
   "cell_type": "code",
   "execution_count": 4,
   "metadata": {
    "vscode": {
     "languageId": "r"
    }
   },
   "outputs": [
    {
     "name": "stdout",
     "output_type": "stream",
     "text": [
      "  Step PointForecast LowerBound99 UpperBound99\n",
      "1    1   0.005871096  -0.01737110   0.02911329\n",
      "2    2   0.006206663  -0.01840586   0.03081918\n",
      "3    3   0.007720364  -0.01757236   0.03301309\n",
      "4    4   0.007732366  -0.01756419   0.03302892\n",
      "5    5   0.007894174  -0.01740238   0.03319073\n",
      "6    6   0.007780355  -0.01752352   0.03308423\n",
      "7    7   0.007760257  -0.01754499   0.03306550\n",
      "8    8   0.007720180  -0.01758563   0.03302599\n"
     ]
    }
   ],
   "source": [
    "# Assuming ar_model is already fitted to the data\n",
    "# Generate 1-step to 8-step ahead forecasts\n",
    "forecasts <- predict(ar_model, n.ahead = 8)\n",
    "\n",
    "# Extract point forecasts and standard errors\n",
    "point_forecasts <- forecasts$pred\n",
    "standard_errors <- forecasts$se\n",
    "\n",
    "# Calculate 99% confidence intervals\n",
    "alpha <- 0.01\n",
    "z_value <- qnorm(1 - alpha / 2)\n",
    "lower_bounds <- point_forecasts - z_value * standard_errors\n",
    "upper_bounds <- point_forecasts + z_value * standard_errors\n",
    "\n",
    "# Display the results\n",
    "forecast_results <- data.frame(\n",
    "  Step = 1:8,\n",
    "  PointForecast = point_forecasts,\n",
    "  LowerBound99 = lower_bounds,\n",
    "  UpperBound99 = upper_bounds\n",
    ")\n",
    "\n",
    "print(forecast_results)"
   ]
  }
 ],
 "metadata": {
  "kernelspec": {
   "display_name": "R",
   "language": "R",
   "name": "ir"
  },
  "language_info": {
   "codemirror_mode": "r",
   "file_extension": ".r",
   "mimetype": "text/x-r-source",
   "name": "R",
   "pygments_lexer": "r",
   "version": "4.4.1"
  }
 },
 "nbformat": 4,
 "nbformat_minor": 2
}
